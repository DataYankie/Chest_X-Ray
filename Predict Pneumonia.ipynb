{
 "cells": [
  {
   "cell_type": "code",
   "execution_count": 4,
   "metadata": {},
   "outputs": [],
   "source": [
    "import matplotlib.pyplot as plt\n",
    "import numpy as np\n",
    "import tensorflow as tf\n",
    "from tensorflow import keras\n",
    "from tensorflow.keras.preprocessing.image import ImageDataGenerator"
   ]
  },
  {
   "cell_type": "code",
   "execution_count": 8,
   "metadata": {},
   "outputs": [
    {
     "name": "stdout",
     "output_type": "stream",
     "text": [
      "Found 5216 images belonging to 2 classes.\n",
      "Found 16 images belonging to 2 classes.\n"
     ]
    }
   ],
   "source": [
    "target_size = (224, 224)\n",
    "seed = 42\n",
    "path_dataset = r'/mnt/c/Datasets/Chest X-Ray Images/chest_xray'\n",
    "\n",
    "train_datagen = ImageDataGenerator(\n",
    "    rescale=1./255,\n",
    "    rotation_range=10,\n",
    "    brightness_range=[0.7,1.3],\n",
    "    #validation_split=0.2\n",
    "    )\n",
    "train_generator = train_datagen.flow_from_directory(\n",
    "    (path_dataset + '/train'),\n",
    "    seed=seed,\n",
    "    target_size=target_size,\n",
    "    batch_size=32,\n",
    "    class_mode='binary',\n",
    "    #subset='training'\n",
    "    )\n",
    "\n",
    "val_datagen = ImageDataGenerator(\n",
    "    rescale=1./255, \n",
    "    validation_split=0.2\n",
    ")\n",
    "validation_generator = val_datagen.flow_from_directory(\n",
    "    (path_dataset + '/val'),\n",
    "    seed=seed,\n",
    "    target_size=target_size,\n",
    "    batch_size=16,\n",
    "    class_mode='binary',\n",
    "    #subset='validation'\n",
    "    )"
   ]
  }
 ],
 "metadata": {
  "kernelspec": {
   "display_name": "tfgpu",
   "language": "python",
   "name": "python3"
  },
  "language_info": {
   "codemirror_mode": {
    "name": "ipython",
    "version": 3
   },
   "file_extension": ".py",
   "mimetype": "text/x-python",
   "name": "python",
   "nbconvert_exporter": "python",
   "pygments_lexer": "ipython3",
   "version": "3.11.5"
  }
 },
 "nbformat": 4,
 "nbformat_minor": 2
}
